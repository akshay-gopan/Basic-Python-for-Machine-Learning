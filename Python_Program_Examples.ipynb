{
  "nbformat": 4,
  "nbformat_minor": 0,
  "metadata": {
    "colab": {
      "provenance": [],
      "authorship_tag": "ABX9TyPtLxSiU0zTEWVY7gsKQP0K",
      "include_colab_link": true
    },
    "kernelspec": {
      "name": "python3",
      "display_name": "Python 3"
    },
    "language_info": {
      "name": "python"
    }
  },
  "cells": [
    {
      "cell_type": "markdown",
      "metadata": {
        "id": "view-in-github",
        "colab_type": "text"
      },
      "source": [
        "<a href=\"https://colab.research.google.com/github/akshaygopan37/Basic-Python-for-Machine-Learning/blob/main/Python_Program_Examples.ipynb\" target=\"_parent\"><img src=\"https://colab.research.google.com/assets/colab-badge.svg\" alt=\"Open In Colab\"/></a>"
      ]
    },
    {
      "cell_type": "markdown",
      "source": [
        "## 1. Program to find largest of three numbers.\n",
        "**Step 1:** Get the input from the user.\n",
        "\n",
        "**Step 2:** Use the conditionals `if-elif-else` to find the largest no.\n",
        "\n",
        "**Step 3:** Print the largest number.\n"
      ],
      "metadata": {
        "id": "jejQgn9HAVi-"
      }
    },
    {
      "cell_type": "code",
      "source": [
        "num1 = float(input(\"Enter first number: \"))\n",
        "num2 = float(input(\"Enter second number: \"))\n",
        "num3 = float(input(\"Enter third number: \"))\n",
        "\n",
        "if (num1 >= num2) and (num1 >= num3):\n",
        "   largest = num1\n",
        "elif (num2 >= num1) and (num2 >= num3):\n",
        "   largest = num2\n",
        "else:\n",
        "   largest = num3\n",
        "   \n",
        "print(\"The largest number is\", largest)"
      ],
      "metadata": {
        "colab": {
          "base_uri": "https://localhost:8080/"
        },
        "id": "yEu2a6veAgEZ",
        "outputId": "46d3fd27-6c32-4352-8200-78f37bb25d1f"
      },
      "execution_count": null,
      "outputs": [
        {
          "output_type": "stream",
          "name": "stdout",
          "text": [
            "Enter first number: 12\n",
            "Enter second number: 19\n",
            "Enter third number: 85\n",
            "The largest number is 85.0\n"
          ]
        }
      ]
    },
    {
      "cell_type": "markdown",
      "source": [
        "## 2.Print the multiplication table\n",
        "\n",
        "**Step 1:** Get the number from the user and store it in variale `num`.\n",
        "\n",
        "**Step 2:** Iterate the condition using `for-loop` from i= 1 to 10\n",
        "\n",
        "**Step 3:** Print the result.\n"
      ],
      "metadata": {
        "id": "Dwj1AM4HCeXv"
      }
    },
    {
      "cell_type": "code",
      "source": [
        "num = int(input(\"Enter the number:\"))\n",
        "for i in range(1, 11):\n",
        "   print(num, 'x', i, '=', num*i)"
      ],
      "metadata": {
        "colab": {
          "base_uri": "https://localhost:8080/"
        },
        "id": "kBCi7jPbEGSv",
        "outputId": "620d62e6-2df9-4a02-99b8-629b968b1547"
      },
      "execution_count": null,
      "outputs": [
        {
          "output_type": "stream",
          "name": "stdout",
          "text": [
            "Enter the number:7\n",
            "7 x 1 = 7\n",
            "7 x 2 = 14\n",
            "7 x 3 = 21\n",
            "7 x 4 = 28\n",
            "7 x 5 = 35\n",
            "7 x 6 = 42\n",
            "7 x 7 = 49\n",
            "7 x 8 = 56\n",
            "7 x 9 = 63\n",
            "7 x 10 = 70\n"
          ]
        }
      ]
    },
    {
      "cell_type": "markdown",
      "source": [
        "## 3. Ckeck if the number positive or negative\n",
        "\n",
        "**step 1:** Take the number from the user.\n",
        "\n",
        "**step 2:** USe the conditional `if-elif-else` to checkt the sign of the number,\n",
        "\n",
        "**step 3:** Print the result."
      ],
      "metadata": {
        "id": "Cw6kK-nKEVJv"
      }
    },
    {
      "cell_type": "code",
      "source": [
        "num = float(input(\"Enter a number: \"))\n",
        "if num > 0:\n",
        "   print(\"Positive number\")\n",
        "elif num == 0:\n",
        "   print(\"Zero\")\n",
        "else:\n",
        "   print(\"Negative number\")"
      ],
      "metadata": {
        "colab": {
          "base_uri": "https://localhost:8080/"
        },
        "id": "ucmk7WFFFNqX",
        "outputId": "502fafb6-19cd-447f-9de8-474dd84d9623"
      },
      "execution_count": null,
      "outputs": [
        {
          "output_type": "stream",
          "name": "stdout",
          "text": [
            "Enter a number: -25\n",
            "Negative number\n"
          ]
        }
      ]
    },
    {
      "cell_type": "markdown",
      "source": [
        "##4. Find the surface area and volume of a cylinder\n",
        "\n",
        "**Step 1:** Initialise `pi=3.14`.\n",
        "\n",
        "**Step 2:** Take the value of radius `r` and height `h` of the cylinder from the user.\n",
        "\n",
        "**Step 3:** Calculate the surface area and volume of the cylinder.\n",
        "\n",
        "**Step 4:** Print the result.\n",
        "\n",
        "$$SA=2\\pi r(r+h)$$\n",
        "\n",
        "$$V=\\pi r^2 h$$\n",
        "\n"
      ],
      "metadata": {
        "id": "MX34PAJVFVgP"
      }
    },
    {
      "cell_type": "code",
      "source": [
        "pi=3.14\n",
        "r=float(input(\"Enter the radius:\"))\n",
        "h=float(input(\"Enter the height:\"))\n",
        "SA=2*pi*r*(r+h)\n",
        "V=pi*r**2*h\n",
        "print((\"Surface Area is {} and Volume is {}\").format(SA,V))"
      ],
      "metadata": {
        "colab": {
          "base_uri": "https://localhost:8080/"
        },
        "id": "Z9aHEWeQGWlj",
        "outputId": "ba91af55-2679-44db-d17b-451c710cdd43"
      },
      "execution_count": null,
      "outputs": [
        {
          "output_type": "stream",
          "name": "stdout",
          "text": [
            "Enter the radius:2.3\n",
            "Enter the height:5.4\n",
            "Surface Area is 111.2188 and Volume is 89.69724\n"
          ]
        }
      ]
    },
    {
      "cell_type": "markdown",
      "source": [
        "##5. Find the area of the circle\n",
        "\n",
        " **Step 1:** Take the radius $r$ of the circle from the user.\n",
        "\n",
        "**Step 2:** Calculate the $Area$ of the circle.\n",
        "\n",
        "**Step 3:** Print the result.\n",
        "\n",
        "$$Area=\\pi r^2$$\n",
        "\n"
      ],
      "metadata": {
        "id": "G6sDCCnUGwOE"
      }
    },
    {
      "cell_type": "code",
      "source": [
        "r=float(input(\"Enter the radius: \"))\n",
        "print(\"Area: \",pi*r**2)"
      ],
      "metadata": {
        "colab": {
          "base_uri": "https://localhost:8080/"
        },
        "id": "Bhvc1W6cIPeE",
        "outputId": "405d86e6-e963-4822-e7b0-ea5ce5d3c362"
      },
      "execution_count": null,
      "outputs": [
        {
          "output_type": "stream",
          "name": "stdout",
          "text": [
            "Enter the radius: 5.2\n",
            "Area:  84.9056\n"
          ]
        }
      ]
    },
    {
      "cell_type": "markdown",
      "source": [
        "##6. Find the area of a rectangle with length $l$ and breadth $b$\n",
        "\n",
        "**Step 1:** Take the length $l$ and breadth $b$ from the user.\n",
        "\n",
        "**Step 2:** Calculate the $Area$ of the rectangle.\n",
        "\n",
        "**Step 3:** Print the result\n",
        "\n",
        "$$Area=lb$$\n"
      ],
      "metadata": {
        "id": "gHrbDatWJGoU"
      }
    },
    {
      "cell_type": "code",
      "source": [
        "l=float(input(\"Enter the length:\"))\n",
        "b=float(input(\"Enter the breadth:\"))\n",
        "Area=l*b\n",
        "print(\"Area of the Rectangle is : \",Area)"
      ],
      "metadata": {
        "colab": {
          "base_uri": "https://localhost:8080/"
        },
        "id": "d58kfJsIKNbb",
        "outputId": "6f284017-0d9d-4c26-f9f8-5ac56c62d353"
      },
      "execution_count": null,
      "outputs": [
        {
          "output_type": "stream",
          "name": "stdout",
          "text": [
            "Enter the length:12\n",
            "Enter the breadth:6.3\n",
            "Area of the Rectangle is :  75.6\n"
          ]
        }
      ]
    },
    {
      "cell_type": "markdown",
      "source": [
        "##7. Replace a word with another word in a string\n",
        "\n",
        "**Step 1:** Initialis the string.\n",
        "\n",
        "**Step 2:** Use the `replace()` method in `python`\n",
        "\n",
        ">**Syntax:**\n",
        "\n",
        "```\n",
        "str.replace(old,new)\n",
        "```"
      ],
      "metadata": {
        "id": "i-rchp0qKykm"
      }
    },
    {
      "cell_type": "code",
      "source": [
        "str = 'Hai, how are you'\n",
        "\n",
        "replaced_text = str.replace('Hai', 'Hey ')\n",
        "print(replaced_text)"
      ],
      "metadata": {
        "colab": {
          "base_uri": "https://localhost:8080/"
        },
        "id": "5qXbAKQuMScs",
        "outputId": "ea9a1886-0f9f-4ae9-fd87-fc7cee287d55"
      },
      "execution_count": null,
      "outputs": [
        {
          "output_type": "stream",
          "name": "stdout",
          "text": [
            "Hey , how are you\n"
          ]
        }
      ]
    },
    {
      "cell_type": "markdown",
      "source": [
        "##8. Remove a word from a string\n",
        "\n",
        "**Step 1:** Initialise the string.\n",
        "\n",
        "**Step 2:** Take the word to be deleted\n",
        "\n",
        "**Step 3:** Split the string and apply the conditionals `if-else` to remove the word.\n",
        "\n",
        "**Step 4:** Join the string and print result."
      ],
      "metadata": {
        "id": "sGB1P98uMtHb"
      }
    },
    {
      "cell_type": "code",
      "source": [
        "print(\"Enter String: \", end=\"\")\n",
        "text = input()\n",
        "\n",
        "print(\"Enter a Word to Delete: \", end=\"\")\n",
        "word = input()\n",
        "\n",
        "wordlist = text.split()\n",
        "if word in wordlist:\n",
        "    text = text.replace(word, \"\\b\")\n",
        "    print(\"\\nNew String without \\\"\" +word+ \"\\\":\")\n",
        "    print(text)\n",
        "else:\n",
        "    print(\"\\n\\\"\" +word+ \"\\\" is not found in the string!\")"
      ],
      "metadata": {
        "colab": {
          "base_uri": "https://localhost:8080/"
        },
        "id": "2D0dMzagN4tr",
        "outputId": "9556a5a9-70fe-4359-f152-027cc0b5aa8c"
      },
      "execution_count": null,
      "outputs": [
        {
          "output_type": "stream",
          "name": "stdout",
          "text": [
            "Enter String: hai there bro\n",
            "Enter a Word to Delete: there\n",
            "\n",
            "New String without \"there\":\n",
            "hai \b bro\n"
          ]
        }
      ]
    }
  ]
}