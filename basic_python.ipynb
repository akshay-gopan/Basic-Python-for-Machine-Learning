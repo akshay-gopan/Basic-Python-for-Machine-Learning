{
  "nbformat": 4,
  "nbformat_minor": 0,
  "metadata": {
    "colab": {
      "provenance": [],
      "authorship_tag": "ABX9TyPwXSETlTM3OdPyCtUbbnEy",
      "include_colab_link": true
    },
    "kernelspec": {
      "name": "python3",
      "display_name": "Python 3"
    },
    "language_info": {
      "name": "python"
    }
  },
  "cells": [
    {
      "cell_type": "markdown",
      "metadata": {
        "id": "view-in-github",
        "colab_type": "text"
      },
      "source": [
        "<a href=\"https://colab.research.google.com/github/akshaygopan37/Basic-Python-for-Machine-Learning/blob/main/basic_python.ipynb\" target=\"_parent\"><img src=\"https://colab.research.google.com/assets/colab-badge.svg\" alt=\"Open In Colab\"/></a>"
      ]
    },
    {
      "cell_type": "markdown",
      "source": [
        "# Introduction to python `python`\n",
        "\n",
        "First program: Displays a Hello"
      ],
      "metadata": {
        "id": "3OLpByIs7JWi"
      }
    },
    {
      "cell_type": "code",
      "source": [
        "print(\"Hello\")"
      ],
      "metadata": {
        "colab": {
          "base_uri": "https://localhost:8080/"
        },
        "id": "2QLzbxIS75TM",
        "outputId": "613bbbf5-eb86-4d30-e602-3c5f033ce584"
      },
      "execution_count": 1,
      "outputs": [
        {
          "output_type": "stream",
          "name": "stdout",
          "text": [
            "Hello\n"
          ]
        }
      ]
    },
    {
      "cell_type": "markdown",
      "source": [
        ">Program to assign an integer and display it"
      ],
      "metadata": {
        "id": "Fx_xxflA9O-K"
      }
    },
    {
      "cell_type": "code",
      "source": [
        "a=10\n",
        "print(\"Value of variable a is:\",a)"
      ],
      "metadata": {
        "colab": {
          "base_uri": "https://localhost:8080/"
        },
        "id": "Fw8fwo1v8qA6",
        "outputId": "577e7e9d-4490-450e-cf53-28567444809e"
      },
      "execution_count": 3,
      "outputs": [
        {
          "output_type": "stream",
          "name": "stdout",
          "text": [
            "Value of variable a is: 10\n"
          ]
        }
      ]
    },
    {
      "cell_type": "markdown",
      "source": [
        "Program to find sum of two nubers"
      ],
      "metadata": {
        "id": "-ezAd1Yi9qzD"
      }
    },
    {
      "cell_type": "code",
      "source": [
        "a=10\n",
        "b=20\n",
        "sum=a+b\n",
        "print(\"Sum of the numbers is:\",sum)"
      ],
      "metadata": {
        "colab": {
          "base_uri": "https://localhost:8080/"
        },
        "id": "oNj5iu659u5Z",
        "outputId": "37a128fc-9d60-4feb-a9e2-8d90835eed1d"
      },
      "execution_count": 6,
      "outputs": [
        {
          "output_type": "stream",
          "name": "stdout",
          "text": [
            "Sum of the numbers is: 30\n"
          ]
        }
      ]
    },
    {
      "cell_type": "markdown",
      "source": [
        "Read two numbers from user and find sum"
      ],
      "metadata": {
        "id": "jXKriS5h-Wkr"
      }
    },
    {
      "cell_type": "code",
      "source": [
        "a=int(input(\"Enter the first no:\")) #type casting"
      ],
      "metadata": {
        "colab": {
          "base_uri": "https://localhost:8080/"
        },
        "id": "BOqSsulL-bab",
        "outputId": "ade5813c-e58d-4b25-8902-87032858471f"
      },
      "execution_count": 11,
      "outputs": [
        {
          "name": "stdout",
          "output_type": "stream",
          "text": [
            "Enter the first no:7\n"
          ]
        }
      ]
    },
    {
      "cell_type": "code",
      "source": [
        "b=int(input(\"Enter the second no:\")) #type casting"
      ],
      "metadata": {
        "colab": {
          "base_uri": "https://localhost:8080/"
        },
        "id": "b3ZprNdt-huq",
        "outputId": "b3b6350f-a7d5-46c8-b874-5cf5a9e3d796"
      },
      "execution_count": 12,
      "outputs": [
        {
          "name": "stdout",
          "output_type": "stream",
          "text": [
            "Enter the second no:19\n"
          ]
        }
      ]
    },
    {
      "cell_type": "code",
      "source": [
        "# display a and b\n",
        "print(a)"
      ],
      "metadata": {
        "colab": {
          "base_uri": "https://localhost:8080/"
        },
        "id": "0StqJmlX-05L",
        "outputId": "1f09159b-afe9-4697-aeef-2dbd97596e65"
      },
      "execution_count": 13,
      "outputs": [
        {
          "output_type": "stream",
          "name": "stdout",
          "text": [
            "7\n"
          ]
        }
      ]
    },
    {
      "cell_type": "code",
      "source": [
        "sum=a+b\n",
        "print(sum)"
      ],
      "metadata": {
        "colab": {
          "base_uri": "https://localhost:8080/"
        },
        "id": "4BOvF9-5_GU6",
        "outputId": "5298ee7f-3c7f-4dd0-fe64-3aae99dd6811"
      },
      "execution_count": 14,
      "outputs": [
        {
          "output_type": "stream",
          "name": "stdout",
          "text": [
            "26\n"
          ]
        }
      ]
    }
  ]
}